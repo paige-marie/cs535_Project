{
 "cells": [
  {
   "cell_type": "code",
   "execution_count": 2,
   "id": "00719932",
   "metadata": {},
   "outputs": [],
   "source": [
    "import pandas as pd\n",
    "import matplotlib.pyplot as plt\n",
    "import matplotlib.image as mpimg\n",
    "import glob\n",
    "from pathlib import Path\n",
    "import os\n",
    "\n",
    "# don't know if this still works\n",
    "    \n",
    "def show_images(model_type, images_path, csv_path):\n",
    "    df = pd.read_csv(csv_path).sort_values('rmse')\n",
    "    df = pd.concat([df.head(1), df.tail(1)])\n",
    "    base_dir = Path(images_path)\n",
    "\n",
    "    for _, row in df.iterrows():\n",
    "        model = row['model']\n",
    "        sample = row['sample']\n",
    "        day = row['day']\n",
    "        rmse = row['rmse']\n",
    "        \n",
    "        true_path = base_dir / f\"{model}/sample{sample}_day{day}_true.png\"\n",
    "        pred_path = base_dir / f\"{model}/sample{sample}_day{day}_pred.png\"\n",
    "        \n",
    "        if not true_path.exists() or not pred_path.exists():\n",
    "            print(f\"Missing images for {model} sample{sample} day{day}\")\n",
    "            continue\n",
    "        \n",
    "        true_img = mpimg.imread(true_path)\n",
    "        pred_img = mpimg.imread(pred_path)\n",
    "        \n",
    "        fig, (ax1, ax2) = plt.subplots(1, 2, figsize=(8, 4))\n",
    "        plt.subplots_adjust(wspace=0.3, top=0.85, bottom=0.15)\n",
    "        \n",
    "        ax1.imshow(true_img)\n",
    "        ax1.axis('off')\n",
    "        ax1.set_title('Truth', fontsize=8)\n",
    "        \n",
    "        ax2.imshow(pred_img)\n",
    "        ax2.axis('off')\n",
    "        ax2.set_title('Prediction', fontsize=8)\n",
    "        \n",
    "        fig.suptitle(f\"{model_type}-{model} day{day} RMSE: {rmse:.4f}\", \n",
    "                    fontsize=10, y=0.05, va='bottom')\n",
    "        \n",
    "        plt.show()\n",
    "        plt.close()"
   ]
  },
  {
   "cell_type": "code",
   "execution_count": 1,
   "id": "b4dcb8a2",
   "metadata": {
    "scrolled": false
   },
   "outputs": [
    {
     "ename": "NameError",
     "evalue": "name 'show_images' is not defined",
     "output_type": "error",
     "traceback": [
      "\u001b[0;31m---------------------------------------------------------------------------\u001b[0m",
      "\u001b[0;31mNameError\u001b[0m                                 Traceback (most recent call last)",
      "Cell \u001b[0;32mIn[1], line 3\u001b[0m\n\u001b[1;32m      1\u001b[0m models\u001b[38;5;241m=\u001b[39m[\u001b[38;5;124m'\u001b[39m\u001b[38;5;124mCNN\u001b[39m\u001b[38;5;124m'\u001b[39m, \u001b[38;5;124m'\u001b[39m\u001b[38;5;124mLSTM\u001b[39m\u001b[38;5;124m'\u001b[39m, \u001b[38;5;124m'\u001b[39m\u001b[38;5;124mLSTM_bidirectional\u001b[39m\u001b[38;5;124m'\u001b[39m]\n\u001b[1;32m      2\u001b[0m \u001b[38;5;28;01mfor\u001b[39;00m model \u001b[38;5;129;01min\u001b[39;00m models:\n\u001b[0;32m----> 3\u001b[0m     \u001b[43mshow_images\u001b[49m(model, \u001b[38;5;124mf\u001b[39m\u001b[38;5;124m\"\u001b[39m\u001b[38;5;124m/s/bach/b/class/cs535/cs535a/data/eval_results/\u001b[39m\u001b[38;5;132;01m{\u001b[39;00mmodel\u001b[38;5;132;01m}\u001b[39;00m\u001b[38;5;124m\"\u001b[39m, \u001b[38;5;124mf\u001b[39m\u001b[38;5;124m\"\u001b[39m\u001b[38;5;124m/s/chopin/n/under/voleskyj/cs535_project/analysis/csvs/\u001b[39m\u001b[38;5;132;01m{\u001b[39;00mmodel\u001b[38;5;241m.\u001b[39mlower()\u001b[38;5;132;01m}\u001b[39;00m\u001b[38;5;124m.csv\u001b[39m\u001b[38;5;124m\"\u001b[39m)\n\u001b[1;32m      4\u001b[0m     \u001b[38;5;28mprint\u001b[39m(\u001b[38;5;124m'\u001b[39m\u001b[38;5;124m-----------------------------------------------------------------------------------------------\u001b[39m\u001b[38;5;124m'\u001b[39m)\n",
      "\u001b[0;31mNameError\u001b[0m: name 'show_images' is not defined"
     ]
    }
   ],
   "source": [
    "# don't know if this still works\n",
    "models=['CNN', 'LSTM', 'LSTM_bidirectional']\n",
    "for model in models:\n",
    "    show_images(model, f\"/s/bach/b/class/cs535/cs535a/data/eval_results/{model}\", f\"/s/chopin/n/under/voleskyj/cs535_project/analysis/csvs/{model.lower()}.csv\")\n",
    "    print('-----------------------------------------------------------------------------------------------')"
   ]
  },
  {
   "cell_type": "code",
   "execution_count": null,
   "id": "a9b30c70",
   "metadata": {
    "scrolled": false
   },
   "outputs": [],
   "source": [
    "def make_histograms(model,instep):\n",
    "    csv_files = glob.glob(f\"/s/bach/b/class/cs535/cs535a/data/eval_results/{model}/{instep}/*.csv\")  # Replace with your actual file path\n",
    "\n",
    "    df_list = []\n",
    "    for file in csv_files:\n",
    "        temp_df = pd.read_csv(file)\n",
    "        df_list.append(temp_df)\n",
    "\n",
    "    df = pd.concat(df_list, ignore_index=True)\n",
    "\n",
    "    for i in range(9):\n",
    "        if i > 0:\n",
    "            step_df = df[df['Step'] == i]\n",
    "            title = f\"Histogram of {model}-{instep} RMSE for Step {i}\"\n",
    "            save_file = f\"histograms/{model}_{instep}/{model}_{instep}_step{i}.png\"\n",
    "        else:\n",
    "            step_df = df\n",
    "            title = f\"Histogram of {model}-{instep} RMSE (Total)\"\n",
    "            save_file = f\"histograms/{model}_{instep}/{model}_{instep}_total.png\"\n",
    "\n",
    "        plt.figure(figsize=(10, 6))\n",
    "        plt.hist(step_df['Real_NDVI_RMSE'], bins=20, edgecolor='black')\n",
    "        plt.title(title)\n",
    "        plt.xlabel('RMSE')\n",
    "        plt.ylabel('Frequency')\n",
    "        plt.grid(True, alpha=0.3)\n",
    "        \n",
    "        plt.axvline(avg_value, color='red', linestyle='--', linewidth=2, \n",
    "            label=f'Mean: {avg_value:.4f}')\n",
    "\n",
    "        plt.savefig(save_file)\n",
    "        plt.show()\n",
    "\n",
    "make_histograms(\"LSTM_bidirectional\", \"8Day\")"
   ]
  },
  {
   "cell_type": "code",
   "execution_count": 12,
   "id": "a543def4",
   "metadata": {},
   "outputs": [
    {
     "name": "stdout",
     "output_type": "stream",
     "text": [
      "CNN-1Day: 0.1592742011121716\n",
      "CNN-4Day: 0.16844678109965036\n",
      "CNN-8Day: 0.1892043693849773\n",
      "LSTM-1Day: 0.18153115424019908\n",
      "LSTM-4Day: 0.18931970996153846\n",
      "LSTM-8Day: 0.23454181355280637\n",
      "LSTM_bidirectional-1Day: 0.18247141739773196\n",
      "LSTM_bidirectional-4Day: 0.18901067039060182\n",
      "LSTM_bidirectional-8Day: 0.23373213045289495\n"
     ]
    }
   ],
   "source": [
    "def get_average_rmse(model,instep,step):\n",
    "    csv_files = glob.glob(f\"/s/bach/b/class/cs535/cs535a/data/eval_results/{model}/{instep}/*.csv\")  # Replace with your actual file path\n",
    "\n",
    "    df_list = []\n",
    "    for file in csv_files:\n",
    "        temp_df = pd.read_csv(file)\n",
    "        if step > 0:\n",
    "            df_list.append(temp_df[temp_df['Step'] == step])\n",
    "        else:\n",
    "            df_list\n",
    "\n",
    "    df = pd.concat(df_list, ignore_index=True)\n",
    "    \n",
    "    print(f\"{model}-{instep}: {df['Real_NDVI_RMSE'].mean()}\")\n",
    "\n",
    "get_average_rmse('CNN', '1Day')\n",
    "get_average_rmse('CNN', '4Day')\n",
    "get_average_rmse('CNN', '8Day')\n",
    "get_average_rmse('LSTM', '1Day')\n",
    "get_average_rmse('LSTM', '4Day')\n",
    "get_average_rmse('LSTM', '8Day')\n",
    "get_average_rmse('LSTM_bidirectional', '1Day')\n",
    "get_average_rmse('LSTM_bidirectional', '4Day')\n",
    "get_average_rmse('LSTM_bidirectional', '8Day')"
   ]
  },
  {
   "cell_type": "code",
   "execution_count": null,
   "id": "a054a47e",
   "metadata": {},
   "outputs": [],
   "source": []
  }
 ],
 "metadata": {
  "kernelspec": {
   "display_name": "Python 3 (ipykernel)",
   "language": "python",
   "name": "python3"
  },
  "language_info": {
   "codemirror_mode": {
    "name": "ipython",
    "version": 3
   },
   "file_extension": ".py",
   "mimetype": "text/x-python",
   "name": "python",
   "nbconvert_exporter": "python",
   "pygments_lexer": "ipython3",
   "version": "3.10.12"
  }
 },
 "nbformat": 4,
 "nbformat_minor": 5
}
